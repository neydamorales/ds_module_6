{
 "cells": [
  {
   "cell_type": "markdown",
   "metadata": {},
   "source": [
    "# WeatherPy\n",
    "\n",
    "---\n",
    "\n",
    "## Code to Generate Random Geographic Coordinates and a List of Cities"
   ]
  },
  {
   "cell_type": "code",
   "execution_count": null,
   "metadata": {
    "scrolled": true
   },
   "outputs": [],
   "source": [
    "# Dependencies and Setup\n",
    "import matplotlib.pyplot as plt\n",
    "import pandas as pd\n",
    "import numpy as np\n",
    "import requests\n",
    "import time\n",
    "from scipy.stats import linregress\n",
    "\n",
    "# Impor the OpenWeatherMap API key\n",
    "from api_keys_neyda import weather_api_key\n",
    "\n",
    "# Import citipy to determine the cities based on latitude and longitude\n",
    "from citipy import citipy"
   ]
  },
  {
   "cell_type": "markdown",
   "metadata": {},
   "source": [
    "### Generate the Cities List by Using the `citipy` Library"
   ]
  },
  {
   "cell_type": "code",
   "execution_count": null,
   "metadata": {},
   "outputs": [],
   "source": [
    "# Empty list for holding the latitude and longitude combinations\n",
    "lat_lngs = []\n",
    "\n",
    "# Empty list for holding the cities names\n",
    "cities = []\n",
    "\n",
    "# Range of latitudes and longitudes\n",
    "lat_range = (-90, 90)\n",
    "lng_range = (-180, 180)\n",
    "\n",
    "# Create a set of random lat and lng combinations\n",
    "lats = np.random.uniform(lat_range[0], lat_range[1], size=1500)\n",
    "lngs = np.random.uniform(lng_range[0], lng_range[1], size=1500)\n",
    "lat_lngs = zip(lats, lngs)\n",
    "\n",
    "# Identify nearest city for each lat, lng combination\n",
    "for lat_lng in lat_lngs:\n",
    "    city = citipy.nearest_city(lat_lng[0], lat_lng[1]).city_name\n",
    "    \n",
    "    # If the city is unique, then add it to a our cities list\n",
    "    if city not in cities:\n",
    "        cities.append(city)\n",
    "\n",
    "# Print the city count to confirm sufficient count\n",
    "print(f\"Number of cities in the list: {len(cities)}\")"
   ]
  },
  {
   "cell_type": "markdown",
   "metadata": {},
   "source": [
    "---"
   ]
  },
  {
   "cell_type": "markdown",
   "metadata": {},
   "source": [
    "## Requirement 1: Create Plots to Showcase the Relationship Between Weather Variables and Latitude\n",
    "\n",
    "### Use the OpenWeatherMap API to retrieve weather data from the cities list generated in the started code"
   ]
  },
  {
   "cell_type": "code",
   "execution_count": null,
   "metadata": {},
   "outputs": [],
   "source": [
    "# Set the API base URL\n",
    "url = \"http://api.openweathermap.org/data/2.5/weather?\"\n",
    "units = \"imperial\"\n",
    "\n",
    "# Define an empty list to fetch the weather data for each city\n",
    "city_data = []\n",
    "\n",
    "# Print to logger\n",
    "print(\"Beginning Data Retrieval     \")\n",
    "print(\"-----------------------------\")\n",
    "\n",
    "# Create counters\n",
    "record_count = 1\n",
    "set_count = 1\n",
    "\n",
    "# Loop through all the cities in our list to fetch weather data\n",
    "for i, city in enumerate(cities):\n",
    "        \n",
    "    # Group cities in sets of 50 for logging purposes\n",
    "    if (i % 50 == 0 and i >= 50):\n",
    "        set_count += 1\n",
    "        record_count = 0\n",
    "\n",
    "    # Create endpoint URL with each city\n",
    "    city_url = f\"{url}appid={weather_api_key}&units={units}&q={city}\"\n",
    "    \n",
    "    # Log the url, record, and set numbers\n",
    "    print(\"Processing Record %s of Set %s | %s\" % (record_count, set_count, city))\n",
    "\n",
    "    # Add 1 to the record count\n",
    "    record_count += 1\n",
    "\n",
    "    # Run an API request for each of the cities\n",
    "    try:\n",
    "        # Step 1: Define the URL\n",
    "        # completed previously: city_url = f\"{url}appid={api_key}&units={units}&q={city}\" \n",
    "        \n",
    "        # Step 2: Make the Request\n",
    "        response = requests.get(city_url)\n",
    "        \n",
    "        # Step 3: Check the Status Code\n",
    "        status_code = response.status_code\n",
    "        \n",
    "        # Step 4: Retrieve the data (either .json() or .text()) \n",
    "        if status_code == 200:\n",
    "            city_weather = response.json()\n",
    "        else:\n",
    "            city_weather = {} # failed request\n",
    "        \n",
    "        # Step 5: Extract the data\n",
    "        # Parse out latitude, longitude, max temp, humidity, cloudiness, wind speed, country, and date\n",
    "        city_lat = city_weather.get(\"coord\", {}).get(\"lat\")\n",
    "        city_lng = city_weather.get(\"coord\", {}).get(\"lon\")\n",
    "        city_max_temp = city_weather.get(\"main\", {}).get(\"temp_max\")\n",
    "        city_humidity = city_weather.get(\"main\", {}).get(\"humidity\")\n",
    "        city_clouds = city_weather.get(\"main\", {}).get(\"humidity\")\n",
    "        city_wind = city_weather.get(\"clouds\", {}).get(\"all\")\n",
    "        city_country = city_weather.get(\"sys\", {}).get(\"country\")\n",
    "        city_date = city_weather.get(\"dt\")\n",
    "\n",
    "        # Append the City information into city_data list\n",
    "        city_data.append({\"City\": city, \n",
    "                          \"Lat\": city_lat, \n",
    "                          \"Lng\": city_lng, \n",
    "                          \"Max Temp\": city_max_temp,\n",
    "                          \"Humidity\": city_humidity,\n",
    "                          \"Cloudiness\": city_clouds,\n",
    "                          \"Wind Speed\": city_wind,\n",
    "                          \"Country\": city_country,\n",
    "                          \"Date\": city_date})\n",
    "\n",
    "    # If an error is experienced, skip the city\n",
    "    except Exception as e:\n",
    "        print(\"City not found. Skipping...\")\n",
    "        pass\n",
    "\n",
    "    # Enforce 1 request per second \n",
    "    time.sleep(1)\n",
    "\n",
    "# Indicate that Data Loading is complete \n",
    "print(\"-----------------------------\")\n",
    "print(\"Data Retrieval Complete      \")\n",
    "print(\"-----------------------------\")"
   ]
  },
  {
   "cell_type": "code",
   "execution_count": null,
   "metadata": {},
   "outputs": [],
   "source": [
    "# Convert the cities weather data into a Pandas DataFrame\n",
    "city_data_df = pd.DataFrame(city_data)\n",
    "\n",
    "# Show Record Count\n",
    "city_data_df.count()"
   ]
  },
  {
   "cell_type": "code",
   "execution_count": null,
   "metadata": {},
   "outputs": [],
   "source": [
    "# Display sample data\n",
    "city_data_df.head()"
   ]
  },
  {
   "cell_type": "code",
   "execution_count": null,
   "metadata": {},
   "outputs": [],
   "source": [
    "# Export the City_Data into a csv\n",
    "city_data_df.to_csv(\"C:\\\\Users\\\\polit\\\\Desktop\\\\Data Analytics Bootcamp\\\\homework\\\\ds_module_6\\\\Submission\\\\WeatherPy\\\\cities_neyda.csv\", index_label=\"City_ID\")"
   ]
  },
  {
   "cell_type": "code",
   "execution_count": null,
   "metadata": {},
   "outputs": [],
   "source": [
    "# Read saved data\n",
    "city_data_df = pd.read_csv(\"C:\\\\Users\\\\polit\\\\Desktop\\\\Data Analytics Bootcamp\\\\homework\\\\ds_module_6\\\\Submission\\\\WeatherPy\\\\cities_neyda.csv\", index_col=\"City_ID\")\n",
    "\n",
    "# Display sample data\n",
    "city_data_df.head()"
   ]
  },
  {
   "cell_type": "code",
   "execution_count": null,
   "metadata": {},
   "outputs": [],
   "source": [
    "# Examine data and data types\n",
    "city_data_df.info()"
   ]
  },
  {
   "cell_type": "code",
   "execution_count": null,
   "metadata": {},
   "outputs": [],
   "source": [
    "# Locate the null values\n",
    "city_data_df.loc[pd.isnull(city_data_df.Lat)] # same rows are NaN for the other categories\n",
    "city_data_df.loc[pd.isnull(city_data_df.Country)] # category Country has an additional 8 NaN"
   ]
  },
  {
   "cell_type": "code",
   "execution_count": null,
   "metadata": {},
   "outputs": [],
   "source": [
    "# Drop the null values\n",
    "city_data_clean_df = city_data_df.dropna(how=\"any\").reset_index()\n",
    "city_data_clean_df.info()"
   ]
  },
  {
   "cell_type": "markdown",
   "metadata": {},
   "source": [
    "### Create the Scatter Plots Requested\n",
    "\n",
    "#### Latitude Vs. Temperature"
   ]
  },
  {
   "cell_type": "code",
   "execution_count": null,
   "metadata": {
    "tags": []
   },
   "outputs": [],
   "source": [
    "# Build scatter plot for latitude vs. temperature\n",
    "# Step 1: Gather the Data\n",
    "x = city_data_clean_df.Lat\n",
    "y = city_data_clean_df['Max Temp']\n",
    "\n",
    "# Step 2: Make the canvas\n",
    "plt.figure(figsize=(10, 6))\n",
    "\n",
    "# Step 3: Make the basic plot\n",
    "plt.scatter(x, y, facecolor=\"orange\", edgecolor=\"black\", s=100)\n",
    "\n",
    "# Step 4: Customizations\n",
    "plt.xlabel(\"Latitude\", fontsize=12, fontstyle=\"italic\")\n",
    "plt.ylabel(\"Temperature (F)\", fontsize=12, fontstyle=\"italic\")\n",
    "plt.title(\"Latitude vs Temperature\", fontweight=\"bold\", fontsize=16)\n",
    "plt.grid(color=\"lightgrey\", linestyle = \"--\", alpha=0.5)\n",
    "\n",
    "# Step 5: Save the figure\n",
    "plt.savefig(\"C:\\\\Users\\\\polit\\\\Desktop\\\\Data Analytics Bootcamp\\\\homework\\\\ds_module_6\\\\Submission\\\\WeatherPy\\\\Lat_Temp_neyda.png\")\n",
    "\n",
    "# Step 6: Show plot\n",
    "plt.show()"
   ]
  },
  {
   "cell_type": "markdown",
   "metadata": {},
   "source": [
    "#### Latitude Vs. Humidity"
   ]
  },
  {
   "cell_type": "code",
   "execution_count": null,
   "metadata": {},
   "outputs": [],
   "source": [
    "# Build the scatter plots for latitude vs. humidity\n",
    "# Step 1: Gather the Data\n",
    "x = city_data_clean_df.Lat\n",
    "y = city_data_clean_df['Humidity']\n",
    "\n",
    "# Step 2: Make the canvas\n",
    "plt.figure(figsize=(10, 6))\n",
    "\n",
    "# Step 3: Make the basic plot\n",
    "plt.scatter(x, y, facecolor=\"olive\", edgecolor=\"black\", s=100)\n",
    "\n",
    "# Step 4: Customizations\n",
    "plt.xlabel(\"Latitude\", fontsize=12, fontstyle=\"italic\")\n",
    "plt.ylabel(\"Humidity\", fontsize=12, fontstyle=\"italic\")\n",
    "plt.title(\"Latitude vs Humidity\", fontweight=\"bold\", fontsize=16)\n",
    "plt.grid(color=\"lightgrey\", linestyle = \"--\", alpha=0.5)\n",
    "\n",
    "# Step 5: Save the figure\n",
    "plt.savefig(\"C:\\\\Users\\\\polit\\\\Desktop\\\\Data Analytics Bootcamp\\\\homework\\\\ds_module_6\\\\Submission\\\\WeatherPy\\\\Lat_Hum_neyda.png\")\n",
    "\n",
    "# Step 6: Show plot\n",
    "plt.show()"
   ]
  },
  {
   "cell_type": "markdown",
   "metadata": {},
   "source": [
    "#### Latitude Vs. Cloudiness"
   ]
  },
  {
   "cell_type": "code",
   "execution_count": null,
   "metadata": {},
   "outputs": [],
   "source": [
    "# Build the scatter plots for latitude vs. cloudiness\n",
    "# Step 1: Gather the Data\n",
    "x = city_data_clean_df.Lat\n",
    "y = city_data_clean_df['Cloudiness']\n",
    "\n",
    "# Step 2: Make the canvas\n",
    "plt.figure(figsize=(10, 6))\n",
    "\n",
    "# Step 3: Make the basic plot\n",
    "plt.scatter(x, y, facecolor=\"cyan\", edgecolor=\"black\", s=100)\n",
    "\n",
    "# Step 4: Customizations\n",
    "plt.xlabel(\"Latitude\", fontsize=12, fontstyle=\"italic\")\n",
    "plt.ylabel(\"Cloudiness\", fontsize=12, fontstyle=\"italic\")\n",
    "plt.title(\"Latitude vs Cloudiness\", fontweight=\"bold\", fontsize=16)\n",
    "plt.grid(color=\"lightgrey\", linestyle = \"--\", alpha=0.5)\n",
    "\n",
    "# Step 5: Save the figure\n",
    "plt.savefig(\"C:\\\\Users\\\\polit\\\\Desktop\\\\Data Analytics Bootcamp\\\\homework\\\\ds_module_6\\\\Submission\\\\WeatherPy\\\\Lat_Cloud_neyda.png\")\n",
    "\n",
    "# Step 6: Show plot\n",
    "plt.show()"
   ]
  },
  {
   "cell_type": "markdown",
   "metadata": {},
   "source": [
    "#### Latitude vs. Wind Speed Plot"
   ]
  },
  {
   "cell_type": "code",
   "execution_count": null,
   "metadata": {},
   "outputs": [],
   "source": [
    "# Build the scatter plots for latitude vs. wind speed\n",
    "# Step 1: Gather the Data\n",
    "x = city_data_clean_df.Lat\n",
    "y = city_data_clean_df['Wind Speed']\n",
    "\n",
    "# Step 2: Make the canvas\n",
    "plt.figure(figsize=(10, 6))\n",
    "\n",
    "# Step 3: Make the basic plot\n",
    "plt.scatter(x, y, facecolor=\"grey\", edgecolor=\"black\", s=100)\n",
    "\n",
    "# Step 4: Customizations\n",
    "plt.xlabel(\"Latitude\", fontsize=12, fontstyle=\"italic\")\n",
    "plt.ylabel(\"Wind Speed\", fontsize=12, fontstyle=\"italic\")\n",
    "plt.title(\"Latitude vs Wind Speed\", fontweight=\"bold\", fontsize=16)\n",
    "plt.grid(color=\"lightgrey\", linestyle = \"--\", alpha=0.5)\n",
    "\n",
    "# Step 5: Save the figure\n",
    "plt.savefig(\"C:\\\\Users\\\\polit\\\\Desktop\\\\Data Analytics Bootcamp\\\\homework\\\\ds_module_6\\\\Submission\\\\WeatherPy\\\\Lat_Wind_neyda.png\")\n",
    "\n",
    "# Step 6: Show plot\n",
    "plt.show()"
   ]
  },
  {
   "cell_type": "markdown",
   "metadata": {},
   "source": [
    "---\n",
    "\n",
    "## Requirement 2: Compute Linear Regression for Each Relationship\n"
   ]
  },
  {
   "cell_type": "code",
   "execution_count": null,
   "metadata": {},
   "outputs": [],
   "source": [
    "# Define a function to create Linear Regression plots\n",
    "# office hours helped me with this\n",
    "def doRegression(x_values, y_values, x_title, y_title, annotation_pos): \n",
    "\n",
    "    # Step 1: Make the line of best fit\n",
    "    (slope, intercept, rvalue, pvalue, stderr) = linregress(x_values, y_values)\n",
    "    regress_values = x_values * slope + intercept # calculate the predictions\n",
    "    line_eq = \"y = \" + str(round(slope,2)) + \"x + \" + str(round(intercept,2))\n",
    "\n",
    "    # Step 2: Make the canvas\n",
    "    plt.figure(figsize=(10, 6))\n",
    "\n",
    "    # Step 3: Make the basic plot\n",
    "    plt.scatter(x_values, y_values, facecolor=\"firebrick\", edgecolor=\"black\", s=100)\n",
    "    plt.plot(x_values, regress_values, \"r-\") # plot the line of best fit\n",
    "\n",
    "    # Step 4: Customizations\n",
    "    plt.xlabel(x_title, fontsize=12, fontstyle=\"italic\")\n",
    "    plt.ylabel(y_title, fontsize=12, fontstyle=\"italic\")\n",
    "    plt.title(f\"{x_title} vs {y_title}\", fontweight=\"bold\", fontsize=16)\n",
    "    plt.grid(color=\"lightgrey\", linestyle = \"--\", alpha=0.5)\n",
    "    plt.annotate(line_eq, annotation_pos, fontsize=15, color=\"red\")\n",
    "    \n",
    "    # Step 5: Show the figure\n",
    "    print(f\"The r-squared is: {rvalue**2}\")\n",
    "    plt.show()"
   ]
  },
  {
   "cell_type": "code",
   "execution_count": null,
   "metadata": {},
   "outputs": [],
   "source": [
    "# Create a DataFrame with the Northern Hemisphere data (Latitude >= 0)\n",
    "northern_hemi_df = city_data_clean_df.loc[city_data_clean_df.Lat >= 0]\n",
    "\n",
    "# Display sample data\n",
    "northern_hemi_df.head()"
   ]
  },
  {
   "cell_type": "code",
   "execution_count": null,
   "metadata": {},
   "outputs": [],
   "source": [
    "# Create a DataFrame with the Southern Hemisphere data (Latitude < 0)\n",
    "southern_hemi_df = city_data_clean_df.loc[city_data_clean_df.Lat < 0]\n",
    "\n",
    "# Display sample data\n",
    "southern_hemi_df.head()"
   ]
  },
  {
   "cell_type": "markdown",
   "metadata": {},
   "source": [
    "###  Temperature vs. Latitude Linear Regression Plot"
   ]
  },
  {
   "cell_type": "code",
   "execution_count": null,
   "metadata": {},
   "outputs": [],
   "source": [
    "# Linear regression on Northern Hemisphere\n",
    "x_values = northern_hemi_df.Lat\n",
    "y_values = northern_hemi_df[\"Max Temp\"] \n",
    "doRegression(x_values, y_values, \"Latitude\", \"Temperature\", (0,40))"
   ]
  },
  {
   "cell_type": "code",
   "execution_count": null,
   "metadata": {},
   "outputs": [],
   "source": [
    "# Linear regression on Southern Hemisphere\n",
    "x_values = southern_hemi_df.Lat\n",
    "y_values = southern_hemi_df[\"Max Temp\"] \n",
    "doRegression(x_values, y_values, \"Latitude\", \"Temperature\", (-15,40))"
   ]
  },
  {
   "cell_type": "markdown",
   "metadata": {},
   "source": [
    "**Discussion about the linear relationship:** The closer you get to the equator the hotter the temparture. "
   ]
  },
  {
   "cell_type": "markdown",
   "metadata": {},
   "source": [
    "### Humidity vs. Latitude Linear Regression Plot"
   ]
  },
  {
   "cell_type": "code",
   "execution_count": null,
   "metadata": {},
   "outputs": [],
   "source": [
    "# Northern Hemisphere\n",
    "x_values = northern_hemi_df.Lat\n",
    "y_values = northern_hemi_df[\"Humidity\"] \n",
    "doRegression(x_values, y_values, \"Latitude\", \"Humidity\", (50,10))"
   ]
  },
  {
   "cell_type": "code",
   "execution_count": null,
   "metadata": {},
   "outputs": [],
   "source": [
    "# Southern Hemisphere\n",
    "x_values = southern_hemi_df.Lat\n",
    "y_values = southern_hemi_df[\"Humidity\"] \n",
    "doRegression(x_values, y_values, \"Latitude\", \"Humidity\", (-50,25))"
   ]
  },
  {
   "cell_type": "markdown",
   "metadata": {},
   "source": [
    "**Discussion about the linear relationship:** There is no correlation between Latitude and Humidity."
   ]
  },
  {
   "cell_type": "markdown",
   "metadata": {},
   "source": [
    "### Cloudiness vs. Latitude Linear Regression Plot"
   ]
  },
  {
   "cell_type": "code",
   "execution_count": null,
   "metadata": {},
   "outputs": [],
   "source": [
    "# Northern Hemisphere\n",
    "x_values = northern_hemi_df.Lat\n",
    "y_values = northern_hemi_df[\"Cloudiness\"] \n",
    "doRegression(x_values, y_values, \"Latitude\", \"Cloudiness\", (55,10))"
   ]
  },
  {
   "cell_type": "code",
   "execution_count": null,
   "metadata": {},
   "outputs": [],
   "source": [
    "# Southern Hemisphere\n",
    "x_values = southern_hemi_df.Lat\n",
    "y_values = southern_hemi_df[\"Cloudiness\"] \n",
    "doRegression(x_values, y_values, \"Latitude\", \"Cloudiness\", (-50,25))"
   ]
  },
  {
   "cell_type": "markdown",
   "metadata": {},
   "source": [
    "**Discussion about the linear relationship:** There is no correlation between Latitude and Cloudiness. "
   ]
  },
  {
   "cell_type": "markdown",
   "metadata": {},
   "source": [
    "### Wind Speed vs. Latitude Linear Regression Plot"
   ]
  },
  {
   "cell_type": "code",
   "execution_count": null,
   "metadata": {},
   "outputs": [],
   "source": [
    "# Northern Hemisphere\n",
    "x_values = northern_hemi_df.Lat\n",
    "y_values = northern_hemi_df[\"Wind Speed\"] \n",
    "doRegression(x_values, y_values, \"Latitude\", \"Wind Speed\", (12,50))"
   ]
  },
  {
   "cell_type": "code",
   "execution_count": null,
   "metadata": {},
   "outputs": [],
   "source": [
    "# Southern Hemisphere\n",
    "x_values = southern_hemi_df.Lat\n",
    "y_values = southern_hemi_df[\"Wind Speed\"] \n",
    "doRegression(x_values, y_values, \"Latitude\", \"Wind Speed\", (-55,16))"
   ]
  },
  {
   "cell_type": "markdown",
   "metadata": {},
   "source": [
    "**Discussion about the linear relationship:** There is no correlation between Latitude and Wind Speed. However, it appears that as you move from the southern hemisphere to the northern hemisphere, the wind spead tends to reduce."
   ]
  },
  {
   "cell_type": "code",
   "execution_count": null,
   "metadata": {},
   "outputs": [],
   "source": []
  }
 ],
 "metadata": {
  "anaconda-cloud": {},
  "kernel_info": {
   "name": "python3"
  },
  "kernelspec": {
   "display_name": "Python 3 (ipykernel)",
   "language": "python",
   "name": "python3"
  },
  "language_info": {
   "codemirror_mode": {
    "name": "ipython",
    "version": 3
   },
   "file_extension": ".py",
   "mimetype": "text/x-python",
   "name": "python",
   "nbconvert_exporter": "python",
   "pygments_lexer": "ipython3",
   "version": "3.10.14"
  },
  "latex_envs": {
   "LaTeX_envs_menu_present": true,
   "autoclose": false,
   "autocomplete": true,
   "bibliofile": "biblio.bib",
   "cite_by": "apalike",
   "current_citInitial": 1,
   "eqLabelWithNumbers": true,
   "eqNumInitial": 1,
   "hotkeys": {
    "equation": "Ctrl-E",
    "itemize": "Ctrl-I"
   },
   "labels_anchors": false,
   "latex_user_defs": false,
   "report_style_numbering": false,
   "user_envs_cfg": false
  },
  "nteract": {
   "version": "0.12.3"
  }
 },
 "nbformat": 4,
 "nbformat_minor": 4
}
